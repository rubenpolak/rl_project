{
 "cells": [
  {
   "cell_type": "code",
   "execution_count": 1,
   "metadata": {},
   "outputs": [],
   "source": [
    "import ipympl\n",
    "import matplotlib.pyplot as plt\n",
    "import gym\n",
    "import numpy as np\n",
    "from tqdm import tqdm, trange, tqdm_notebook\n",
    "import pandas as pd\n",
    "import torch\n",
    "import torch.nn as nn\n",
    "import random\n",
    "import torch.optim as optim\n",
    "import torch.nn.functional as F\n",
    "from torch.autograd import Variable\n",
    "from tensorboardX import SummaryWriter\n",
    "from datetime import datetime\n",
    "import glob, os"
   ]
  },
  {
   "cell_type": "code",
   "execution_count": 2,
   "metadata": {},
   "outputs": [
    {
     "name": "stdout",
     "output_type": "stream",
     "text": [
      "\u001b[33mWARN: gym.spaces.Box autodetected dtype as <class 'numpy.float32'>. Please provide explicit dtype.\u001b[0m\n"
     ]
    },
    {
     "name": "stderr",
     "output_type": "stream",
     "text": [
      "/home/hahamark/.local/lib/python3.6/site-packages/gym/envs/registration.py:14: PkgResourcesDeprecationWarning: Parameters to load are deprecated.  Call .resolve and .require separately.\n",
      "  result = entry_point.load(False)\n"
     ]
    }
   ],
   "source": [
    "env = gym.make('MountainCar-v0')\n",
    "env.seed(1); torch.manual_seed(1); np.random.seed(1)\n",
    "PATH = glob.glob(os.path.expanduser('~/tboardlogs/'))\n",
    "writer = SummaryWriter('{}{}'.format(PATH, datetime.now().strftime('%b%d_%H-%M-%S')))"
   ]
  },
  {
   "cell_type": "code",
   "execution_count": 3,
   "metadata": {},
   "outputs": [],
   "source": [
    "import random\n",
    "class ReplayMemory:\n",
    "    \n",
    "    def __init__(self, capacity):\n",
    "        self.capacity = capacity\n",
    "        self.memory = []\n",
    "\n",
    "    def push(self, transition):\n",
    "        # YOUR CODE HERE\n",
    "        if len(self.memory) >= self.capacity:\n",
    "            self.memory.pop(0)\n",
    "        self.memory.append(transition)\n",
    "\n",
    "    def sample(self, batch_size):\n",
    "        # YOUR CODE HERE\n",
    "        return random.sample(self.memory, batch_size)\n",
    "\n",
    "    def __len__(self):\n",
    "        return len(self.memory)"
   ]
  },
  {
   "cell_type": "code",
   "execution_count": 4,
   "metadata": {},
   "outputs": [
    {
     "name": "stdout",
     "output_type": "stream",
     "text": [
      "[(array([-0.43852191,  0.        ]), 0, -1.0, array([-0.44015308, -0.00163117]), False)]\n"
     ]
    }
   ],
   "source": [
    "capacity = 10\n",
    "memory = ReplayMemory(capacity)\n",
    "\n",
    "# Sample a transition\n",
    "s = env.reset()\n",
    "a = env.action_space.sample()\n",
    "s_next, r, done, _ = env.step(a)\n",
    "\n",
    "# Push a transition\n",
    "memory.push((s, a, r, s_next, done))\n",
    "\n",
    "# Sample a batch size of 1\n",
    "print(memory.sample(1))"
   ]
  },
  {
   "cell_type": "code",
   "execution_count": 5,
   "metadata": {},
   "outputs": [
    {
     "name": "stdout",
     "output_type": "stream",
     "text": [
      "Furthest Position: -0.1585655553751691\n"
     ]
    },
    {
     "data": {
      "image/png": "[encoded data removed]",
      "text/plain": [
       "<Figure size 720x360 with 2 Axes>"
      ]
     },
     "metadata": {
      "needs_background": "light"
     },
     "output_type": "display_data"
    },
    {
     "name": "stdout",
     "output_type": "stream",
     "text": [
      "successful episodes: 0\n"
     ]
    }
   ],
   "source": [
    "max_position = -.4\n",
    "positions = np.ndarray([0,2])\n",
    "rewards = []\n",
    "successful = []\n",
    "for episode in range(1000):\n",
    "    running_reward = 0\n",
    "    env.reset()\n",
    "    done = False\n",
    "    for i in range(200):\n",
    "        state, reward, done, _ = env.step(np.random.randint(0,3))\n",
    "        # Give a reward for reaching a new maximum position\n",
    "        if state[0] > max_position:\n",
    "            max_position = state[0]\n",
    "            positions = np.append(positions, [[episode, max_position]], axis=0)\n",
    "            running_reward += 10\n",
    "        else:\n",
    "            running_reward += reward\n",
    "        if done: \n",
    "            if state[0] >= 0.5:\n",
    "                successful.append(episode)\n",
    "            rewards.append(running_reward)\n",
    "            break\n",
    "\n",
    "print('Furthest Position: {}'.format(max_position))\n",
    "plt.figure(1, figsize=[10,5])\n",
    "plt.subplot(211)\n",
    "plt.plot(positions[:,0], positions[:,1])\n",
    "plt.xlabel('Episode')\n",
    "plt.ylabel('Furthest Position')\n",
    "plt.subplot(212)\n",
    "plt.plot(rewards)\n",
    "plt.xlabel('Episode')\n",
    "plt.ylabel('Reward')\n",
    "plt.show()\n",
    "print('successful episodes: {}'.format(np.count_nonzero(successful)))"
   ]
  },
  {
   "cell_type": "code",
   "execution_count": 6,
   "metadata": {},
   "outputs": [],
   "source": [
    "# I tried different weight initializations but found they did not perform well.\n",
    "def weights_init(m):\n",
    "    classname = m.__class__.__name__\n",
    "    if classname.find('Linear') != -1:\n",
    "        nn.init.normal_(m.weight, 0, 1)\n",
    "\n",
    "class Policy(nn.Module):\n",
    "    def __init__(self):\n",
    "        super(Policy, self).__init__()\n",
    "        self.state_space = env.observation_space.shape[0]\n",
    "        self.action_space = env.action_space.n\n",
    "        self.fc1 = nn.Linear(self.state_space, 256)\n",
    "        self.fc2 = nn.Linear(256, 128)\n",
    "        self.fc3 = nn.Linear(128, 64)\n",
    "        self.fc4 = nn.Linear(64, self.action_space)\n",
    "\n",
    "    def forward(self, x):\n",
    "        x = F.relu(self.fc1(x))\n",
    "        x = F.relu(self.fc2(x))\n",
    "        x = F.relu(self.fc3(x))\n",
    "        return self.fc4(x)"
   ]
  },
  {
   "cell_type": "code",
   "execution_count": 7,
   "metadata": {},
   "outputs": [],
   "source": [
    "def trainDQN(policy, loss_fn, memory, optimizer, batch_size, gamma):\n",
    "    # random transition batch is taken from experience replay memory\n",
    "    if len(memory) < batch_size:\n",
    "        return None\n",
    "    transitions = memory.sample(batch_size)\n",
    "    \n",
    "    # transition is a list of 4-tuples, instead we want 4 vectors (as torch.Tensor's)\n",
    "    state, action, reward, state_1, done = zip(*transitions)\n",
    "    \n",
    "    state = torch.tensor(state, dtype=torch.float)\n",
    "    action = torch.tensor(action, dtype=torch.int64)  # Need 64 bit to use them as index\n",
    "    \n",
    "    state_1 = torch.tensor(state_1, dtype=torch.float)\n",
    "    reward = torch.tensor(reward, dtype=torch.float)\n",
    "    done = torch.tensor(done, dtype=torch.uint8)  # Boolean\n",
    "    \n",
    "    Q = policy(Variable(state))\n",
    "    Q1 = policy(Variable(state_1))\n",
    "    \n",
    "    maxQ1, _ = torch.max(Q1, -1)\n",
    "\n",
    "    # Create target Q value for training the policy\n",
    "    Q_target = Q.clone()\n",
    "    Q_target = Variable(Q_target)\n",
    "    for a in action:\n",
    "        Q_target[a, action[a]] = reward[a] + torch.mul(maxQ1[a].detach(), gamma)\n",
    "\n",
    "    # Calculate loss\n",
    "    loss = loss_fn(Q, Q_target)\n",
    "\n",
    "    # Update policy\n",
    "    optimizer.zero_grad()\n",
    "    loss.backward()\n",
    "    optimizer.step()               \n",
    "    \n",
    "    return loss\n",
    "    \n",
    "    "
   ]
  },
  {
   "cell_type": "code",
   "execution_count": 8,
   "metadata": {},
   "outputs": [],
   "source": [
    "def trainDDQN(policy1, policy2, loss_fn, memory, optimizer, batch_size, gamma):\n",
    "    # random transition batch is taken from experience replay memory\n",
    "    if len(memory) < batch_size:\n",
    "        return None\n",
    "    transitions = memory.sample(batch_size)\n",
    "    \n",
    "    # transition is a list of 4-tuples, instead we want 4 vectors (as torch.Tensor's)\n",
    "    state, action, reward, state_1, done = zip(*transitions)\n",
    "    \n",
    "    state = torch.tensor(state, dtype=torch.float)\n",
    "    action = torch.tensor(action, dtype=torch.int64)  # Need 64 bit to use them as index\n",
    "    \n",
    "    state_1 = torch.tensor(state_1, dtype=torch.float)\n",
    "    reward = torch.tensor(reward, dtype=torch.float)\n",
    "    done = torch.tensor(done, dtype=torch.uint8)  # Boolean\n",
    "    \n",
    "    # Find max Q for t+1 state\n",
    "    if turn1:\n",
    "        Q1 = policy2(Variable(state_1)).detach()\n",
    "        Q2 = policy1(Variable(state_1))\n",
    "    else:\n",
    "        Q1 = policy1(Variable(state_1)).detach()\n",
    "        Q2 = policy2(Variable(state_1))\n",
    "\n",
    "    _, a_prime = torch.max(Q1, -1)\n",
    "\n",
    "    maxQ1 = Q2[a_prime]\n",
    "\n",
    "    # Create target Q value for training the policy\n",
    "    Q_target = Q2.clone()\n",
    "    Q_target = Variable(Q_target)\n",
    "    for a in action:\n",
    "        Q_target[a, action[a]] = reward[a] + torch.mul(maxQ1[a], gamma)\n",
    "\n",
    "    # Calculate loss\n",
    "    loss = loss_fn(Q1, Q_target)\n",
    "\n",
    "    # Update policy\n",
    "    optimizer.zero_grad()\n",
    "    loss.backward()\n",
    "    optimizer.step()\n",
    "        \n",
    "    print(loss)\n",
    "    return loss"
   ]
  },
  {
   "cell_type": "code",
   "execution_count": 9,
   "metadata": {},
   "outputs": [],
   "source": [
    "def DQN(episodes):\n",
    "    \n",
    "    # Parameters\n",
    "    steps = 200\n",
    "    state = env.reset()\n",
    "    epsilon = 0.3\n",
    "    gamma = 0.99\n",
    "    loss_history = []\n",
    "    reward_history = []\n",
    "    learning_rate = 0.001\n",
    "    successes = 0\n",
    "    position = []\n",
    "    memory = ReplayMemory(10000)\n",
    "    batch_size = 32\n",
    "\n",
    "    # Initialize Policy\n",
    "    policy = Policy()\n",
    "    loss_fn = nn.MSELoss()\n",
    "    optimizer = optim.SGD(policy.parameters(), lr=learning_rate)\n",
    "    scheduler = optim.lr_scheduler.StepLR(optimizer, step_size=1, gamma=0.9)\n",
    "\n",
    "    for episode in tqdm_notebook(range(episodes)):\n",
    "        episode_loss = 0\n",
    "        episode_reward = 0\n",
    "        state = env.reset()\n",
    "\n",
    "        for s in range(steps):\n",
    "            # Get first action value function\n",
    "            Q = policy(Variable(torch.from_numpy(state).type(torch.FloatTensor)))\n",
    "\n",
    "            # Choose epsilon-greedy action\n",
    "            if np.random.rand(1) < epsilon:\n",
    "                action = np.random.randint(0,3)\n",
    "            else:\n",
    "                _, action = torch.max(Q, -1)\n",
    "                action = action.item()\n",
    "\n",
    "            # Step forward and receive next state and reward\n",
    "            state_1, reward, done, _ = env.step(action)\n",
    "            klaar = done\n",
    "\n",
    "            # Adjust reward based on car position\n",
    "            reward = state_1[0] + 0.5\n",
    "\n",
    "            # Adjust reward for task completion\n",
    "            if state_1[0] >= 0.5:\n",
    "                reward += 1\n",
    "\n",
    "            # Train the DQN\n",
    "            memory.push((state, action, reward, state_1, done))\n",
    "            loss = trainDQN(policy, loss_fn, memory, optimizer, batch_size, gamma)\n",
    "\n",
    "            if done:\n",
    "                if state_1[0] >= 0.5:\n",
    "                    # On successful epsisodes, adjust the following parameters\n",
    "                    # Adjust epsilon\n",
    "                    epsilon *= .95\n",
    "                    # Adjust learning rate\n",
    "                    scheduler.step()\n",
    "                    # Record successful episode\n",
    "                    successes += 1\n",
    "\n",
    "                # Record history\n",
    "                loss_history.append(episode_loss)\n",
    "                reward_history.append(episode_reward)\n",
    "                position.append(state_1[0])\n",
    "\n",
    "                break\n",
    "            else:\n",
    "                state = state_1\n",
    "                \n",
    "    print('successful episodes: {:d} - {:.4f}%'.format(successes, successes/episodes*100))\n",
    "    return position"
   ]
  },
  {
   "cell_type": "code",
   "execution_count": 10,
   "metadata": {},
   "outputs": [],
   "source": [
    "def DoubleDQN(episodes):\n",
    "    \n",
    "    # Parameters\n",
    "    steps = 200\n",
    "    state = env.reset()\n",
    "    epsilon = 0.3\n",
    "    gamma = 0.99\n",
    "    batch_size = 32\n",
    "    loss_history = []\n",
    "    reward_history = []\n",
    "    learning_rate = 0.001\n",
    "    successes = 0\n",
    "    position = []\n",
    "\n",
    "    # Initialize Policy\n",
    "    policy1 = Policy()\n",
    "    policy2 = Policy()\n",
    "    loss_fn = nn.MSELoss()\n",
    "    optimizer = optim.SGD([\n",
    "                {'params': policy1.parameters(), 'lr': learning_rate},\n",
    "                {'params': policy2.parameters(), 'lr': learning_rate}\n",
    "                ])\n",
    "    scheduler = optim.lr_scheduler.StepLR(optimizer, step_size=1, gamma=0.9)\n",
    "\n",
    "    for episode in tqdm_notebook(range(episodes)):\n",
    "        episode_loss = 0\n",
    "        episode_reward = 0\n",
    "        state = env.reset()\n",
    "\n",
    "        for s in range(steps):\n",
    "            # Get first action value function\n",
    "            turn1 = random.choice([True, False])\n",
    "            if turn1:\n",
    "                Q = policy1(Variable(torch.from_numpy(state).type(torch.FloatTensor)))\n",
    "            else:\n",
    "                Q = policy2(Variable(torch.from_numpy(state).type(torch.FloatTensor)))\n",
    "                \n",
    "            # Choose epsilon-greedy action\n",
    "            if np.random.rand(1) < epsilon:\n",
    "                action = np.random.randint(0,3)\n",
    "            else:\n",
    "                _, action = torch.max(Q, -1)\n",
    "                action = action.item()\n",
    "\n",
    "            # Step forward and receive next state and reward\n",
    "            state_1, reward, done, _ = env.step(action)\n",
    "\n",
    "            # Adjust reward based on car position\n",
    "            reward = state_1[0] + 0.5\n",
    "            # Adjust reward for task completion\n",
    "            if state_1[0] >= 0.5:\n",
    "                reward += 1\n",
    "                \n",
    "            # Train the DQN\n",
    "            memory.push((state, action, reward, state_1, done))\n",
    "            loss = trainDDQN(policy1, policy2, loss_fn, memory, optimizer, batch_size, gamma)\n",
    "            if loss:\n",
    "                \n",
    "                episode_loss += loss.item()\n",
    "                episode_reward += reward\n",
    "\n",
    "            if done:\n",
    "                if state_1[0] >= 0.5:\n",
    "                    # On successful epsisodes, adjust the following parameters\n",
    "                    # Adjust epsilon\n",
    "                    epsilon *= .95\n",
    "\n",
    "                    # Adjust learning rate\n",
    "                    scheduler.step()\n",
    "\n",
    "                    # Record successful episode\n",
    "                    successes += 1\n",
    "\n",
    "                # Record history\n",
    "                loss_history.append(episode_loss)\n",
    "                reward_history.append(episode_reward)\n",
    "                position.append(state_1[0])\n",
    "\n",
    "                break\n",
    "            else:\n",
    "                state = state_1\n",
    "\n",
    "    print('successful episodes: {:d} - {:.4f}%'.format(successes, successes/episodes*100))\n",
    "    return position"
   ]
  },
  {
   "cell_type": "code",
   "execution_count": 11,
   "metadata": {
    "scrolled": true
   },
   "outputs": [
    {
     "data": {
      "application/vnd.jupyter.widget-view+json": {
       "model_id": "1c81968fe23e4946ac1acb2940f35da3",
       "version_major": 2,
       "version_minor": 0
      },
      "text/plain": [
       "HBox(children=(IntProgress(value=0, max=1), HTML(value='')))"
      ]
     },
     "metadata": {},
     "output_type": "display_data"
    },
    {
     "data": {
      "application/vnd.jupyter.widget-view+json": {
       "model_id": "441be208bace4d1b8baef1ff20bf665c",
       "version_major": 2,
       "version_minor": 0
      },
      "text/plain": [
       "HBox(children=(IntProgress(value=0, max=1000), HTML(value='')))"
      ]
     },
     "metadata": {},
     "output_type": "display_data"
    },
    {
     "name": "stdout",
     "output_type": "stream",
     "text": [
      "successful episodes: 0 - 0.0000%\n"
     ]
    },
    {
     "data": {
      "application/vnd.jupyter.widget-view+json": {
       "model_id": "f6a7faf891f442239dfb9456ba31c46d",
       "version_major": 2,
       "version_minor": 0
      },
      "text/plain": [
       "HBox(children=(IntProgress(value=0, max=1000), HTML(value='')))"
      ]
     },
     "metadata": {},
     "output_type": "display_data"
    },
    {
     "name": "stdout",
     "output_type": "stream",
     "text": [
      "successful episodes: 0 - 0.0000%\n",
      "\n"
     ]
    }
   ],
   "source": [
    "EPISODES = 1000\n",
    "RUNS = 1\n",
    "\n",
    "q_data_pos = np.zeros((RUNS, EPISODES))\n",
    "dq_data_pos = np.zeros((RUNS, EPISODES))\n",
    "\n",
    "for i in tqdm_notebook(range(RUNS)):\n",
    "    position = DQN(EPISODES)\n",
    "    q_data_pos[i, :] = position\n",
    "\n",
    "    position = DoubleDQN(EPISODES)\n",
    "    dq_data_pos[i, :] = position\n"
   ]
  },
  {
   "cell_type": "code",
   "execution_count": null,
   "metadata": {},
   "outputs": [],
   "source": [
    "# Plot percentage actions left over episodes:\n",
    "plt.plot(q_data_pos.mean(0), label='Q-learning')\n",
    "plt.plot(dq_data_pos.mean(0), label='Double Q-learning')\n",
    "plt.title('End position')\n",
    "plt.legend()\n",
    "plt.show()"
   ]
  },
  {
   "cell_type": "code",
   "execution_count": null,
   "metadata": {},
   "outputs": [],
   "source": []
  },
  {
   "cell_type": "code",
   "execution_count": null,
   "metadata": {},
   "outputs": [],
   "source": []
  }
 ],
 "metadata": {
  "kernelspec": {
   "display_name": "Python 3",
   "language": "python",
   "name": "python3"
  },
  "language_info": {
   "codemirror_mode": {
    "name": "ipython",
    "version": 3
   },
   "file_extension": ".py",
   "mimetype": "text/x-python",
   "name": "python",
   "nbconvert_exporter": "python",
   "pygments_lexer": "ipython3",
   "version": "3.6.7"
  }
 },
 "nbformat": 4,
 "nbformat_minor": 2
}
