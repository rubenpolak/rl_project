{
 "cells": [
  {
   "cell_type": "code",
   "execution_count": 1,
   "metadata": {},
   "outputs": [],
   "source": [
    "import ipympl\n",
    "import matplotlib.pyplot as plt\n",
    "import gym\n",
    "import numpy as np\n",
    "from tqdm import tqdm, trange, tqdm_notebook\n",
    "import pandas as pd\n",
    "import torch\n",
    "import torch.nn as nn\n",
    "import random\n",
    "import torch.optim as optim\n",
    "import torch.nn.functional as F\n",
    "from torch.autograd import Variable\n",
    "from tensorboardX import SummaryWriter\n",
    "from datetime import datetime\n",
    "import glob, os"
   ]
  },
  {
   "cell_type": "code",
   "execution_count": 2,
   "metadata": {},
   "outputs": [
    {
     "name": "stdout",
     "output_type": "stream",
     "text": [
      "\u001b[33mWARN: gym.spaces.Box autodetected dtype as <class 'numpy.float32'>. Please provide explicit dtype.\u001b[0m\n"
     ]
    },
    {
     "name": "stderr",
     "output_type": "stream",
     "text": [
      "/home/hahamark/.local/lib/python3.6/site-packages/gym/envs/registration.py:14: PkgResourcesDeprecationWarning: Parameters to load are deprecated.  Call .resolve and .require separately.\n",
      "  result = entry_point.load(False)\n"
     ]
    }
   ],
   "source": [
    "env = gym.make('MountainCar-v0')\n",
    "env.seed(1); torch.manual_seed(1); np.random.seed(1)\n",
    "PATH = glob.glob(os.path.expanduser('~/tboardlogs/'))\n",
    "writer = SummaryWriter('{}{}'.format(PATH, datetime.now().strftime('%b%d_%H-%M-%S')))"
   ]
  },
  {
   "cell_type": "code",
   "execution_count": 3,
   "metadata": {},
   "outputs": [
    {
     "name": "stdout",
     "output_type": "stream",
     "text": [
      "Furthest Position: -0.164068288377174\n"
     ]
    },
    {
     "data": {
      "image/png": "[encoded data removed]",
      "text/plain": [
       "<Figure size 720x360 with 2 Axes>"
      ]
     },
     "metadata": {
      "needs_background": "light"
     },
     "output_type": "display_data"
    },
    {
     "name": "stdout",
     "output_type": "stream",
     "text": [
      "successful episodes: 0\n"
     ]
    }
   ],
   "source": [
    "max_position = -.4\n",
    "positions = np.ndarray([0,2])\n",
    "rewards = []\n",
    "successful = []\n",
    "for episode in range(1000):\n",
    "    running_reward = 0\n",
    "    env.reset()\n",
    "    done = False\n",
    "    for i in range(200):\n",
    "        state, reward, done, _ = env.step(np.random.randint(0,3))\n",
    "        # Give a reward for reaching a new maximum position\n",
    "        if state[0] > max_position:\n",
    "            max_position = state[0]\n",
    "            positions = np.append(positions, [[episode, max_position]], axis=0)\n",
    "            running_reward += 10\n",
    "        else:\n",
    "            running_reward += reward\n",
    "        if done: \n",
    "            if state[0] >= 0.5:\n",
    "                successful.append(episode)\n",
    "            rewards.append(running_reward)\n",
    "            break\n",
    "\n",
    "print('Furthest Position: {}'.format(max_position))\n",
    "plt.figure(1, figsize=[10,5])\n",
    "plt.subplot(211)\n",
    "plt.plot(positions[:,0], positions[:,1])\n",
    "plt.xlabel('Episode')\n",
    "plt.ylabel('Furthest Position')\n",
    "plt.subplot(212)\n",
    "plt.plot(rewards)\n",
    "plt.xlabel('Episode')\n",
    "plt.ylabel('Reward')\n",
    "plt.show()\n",
    "print('successful episodes: {}'.format(np.count_nonzero(successful)))"
   ]
  },
  {
   "cell_type": "code",
   "execution_count": 4,
   "metadata": {},
   "outputs": [],
   "source": [
    "# I tried different weight initializations but found they did not perform well.\n",
    "def weights_init(m):\n",
    "    classname = m.__class__.__name__\n",
    "    if classname.find('Linear') != -1:\n",
    "        nn.init.normal_(m.weight, 0, 1)\n",
    "\n",
    "class Policy(nn.Module):\n",
    "    def __init__(self):\n",
    "        super(Policy, self).__init__()\n",
    "        self.state_space = env.observation_space.shape[0]\n",
    "        self.action_space = env.action_space.n\n",
    "        self.hidden = 100\n",
    "        self.l1 = nn.Linear(self.state_space, self.hidden, bias=False)\n",
    "        self.l2 = nn.Linear(self.hidden, self.action_space, bias=False)\n",
    "    \n",
    "    def forward(self, x):    \n",
    "        model = torch.nn.Sequential(\n",
    "            self.l1,\n",
    "            self.l2,\n",
    "        )\n",
    "        return model(x)"
   ]
  },
  {
   "cell_type": "code",
   "execution_count": 11,
   "metadata": {},
   "outputs": [],
   "source": [
    "def DQN(episodes):\n",
    "    \n",
    "    # Parameters\n",
    "    steps = 200\n",
    "    state = env.reset()\n",
    "    epsilon = 0.3\n",
    "    gamma = 0.99\n",
    "    loss_history = []\n",
    "    reward_history = []\n",
    "    learning_rate = 0.001\n",
    "    successes = 0\n",
    "    position = []\n",
    "\n",
    "    # Initialize Policy\n",
    "    policy = Policy()\n",
    "    loss_fn = nn.MSELoss()\n",
    "    optimizer = optim.SGD(policy.parameters(), lr=learning_rate)\n",
    "    scheduler = optim.lr_scheduler.StepLR(optimizer, step_size=1, gamma=0.9)\n",
    "\n",
    "    for episode in trange(episodes):\n",
    "        episode_loss = 0\n",
    "        episode_reward = 0\n",
    "        state = env.reset()\n",
    "\n",
    "        for s in range(steps):\n",
    "            # Get first action value function\n",
    "            Q = policy(Variable(torch.from_numpy(state).type(torch.FloatTensor)))\n",
    "\n",
    "            # Choose epsilon-greedy action\n",
    "            if np.random.rand(1) < epsilon:\n",
    "                action = np.random.randint(0,3)\n",
    "            else:\n",
    "                _, action = torch.max(Q, -1)\n",
    "                action = action.item()\n",
    "\n",
    "            # Step forward and receive next state and reward\n",
    "            state_1, reward, done, _ = env.step(action)\n",
    "\n",
    "            # Adjust reward based on car position\n",
    "            reward = state_1[0] + 0.5\n",
    "\n",
    "            # Adjust reward for task completion\n",
    "            if state_1[0] >= 0.5:\n",
    "                reward += 1\n",
    "\n",
    "            # Find max Q for t+1 state\n",
    "            Q1 = policy(Variable(torch.from_numpy(state_1).type(torch.FloatTensor)))\n",
    "            maxQ1, _ = torch.max(Q1, -1)\n",
    "\n",
    "            # Create target Q value for training the policy\n",
    "            Q_target = Q.clone()\n",
    "            Q_target = Variable(Q_target)\n",
    "            Q_target[action] = reward + torch.mul(maxQ1.detach(), gamma)\n",
    "\n",
    "            # Calculate loss\n",
    "            loss = loss_fn(Q, Q_target)\n",
    "\n",
    "            # Update policy\n",
    "            policy.zero_grad()\n",
    "            loss.backward()\n",
    "            optimizer.step()\n",
    "\n",
    "            episode_loss += loss.item()\n",
    "            episode_reward += reward\n",
    "\n",
    "            if done:\n",
    "                if state_1[0] >= 0.5:\n",
    "                    # On successful epsisodes, adjust the following parameters\n",
    "                    # Adjust epsilon\n",
    "                    epsilon *= .95\n",
    "                    # Adjust learning rate\n",
    "                    scheduler.step()\n",
    "                    # Record successful episode\n",
    "                    successes += 1\n",
    "\n",
    "                # Record history\n",
    "                loss_history.append(episode_loss)\n",
    "                reward_history.append(episode_reward)\n",
    "                position.append(state_1[0])\n",
    "\n",
    "                break\n",
    "            else:\n",
    "                state = state_1\n",
    "                \n",
    "    print('successful episodes: {:d} - {:.4f}%'.format(successes, successes/episodes*100))\n",
    "    return position"
   ]
  },
  {
   "cell_type": "code",
   "execution_count": 14,
   "metadata": {},
   "outputs": [],
   "source": [
    "def DoubleDQN(episodes):\n",
    "    \n",
    "    # Parameters\n",
    "    steps = 200\n",
    "    state = env.reset()\n",
    "    epsilon = 0.3\n",
    "    gamma = 0.99\n",
    "    loss_history = []\n",
    "    reward_history = []\n",
    "    learning_rate = 0.001\n",
    "    successes = 0\n",
    "    position = []\n",
    "\n",
    "    # Initialize Policy\n",
    "    policy1 = Policy()\n",
    "    policy2 = Policy()\n",
    "    loss_fn = nn.MSELoss()\n",
    "    optimizer = optim.SGD([\n",
    "                {'params': policy1.parameters(), 'lr': learning_rate},\n",
    "                {'params': policy2.parameters(), 'lr': learning_rate}\n",
    "                ])\n",
    "    scheduler = optim.lr_scheduler.StepLR(optimizer, step_size=1, gamma=0.9)\n",
    "\n",
    "    for episode in trange(episodes):\n",
    "        episode_loss = 0\n",
    "        episode_reward = 0\n",
    "        state = env.reset()\n",
    "\n",
    "        for s in range(steps):\n",
    "            # Get first action value function\n",
    "            turn1 = random.choice([True, False])\n",
    "            if turn1:\n",
    "                Q = policy1(Variable(torch.from_numpy(state).type(torch.FloatTensor)))\n",
    "            else:\n",
    "                Q = policy2(Variable(torch.from_numpy(state).type(torch.FloatTensor)))\n",
    "                \n",
    "            # Choose epsilon-greedy action\n",
    "            if np.random.rand(1) < epsilon:\n",
    "                action = np.random.randint(0,3)\n",
    "            else:\n",
    "                _, action = torch.max(Q, -1)\n",
    "                action = action.item()\n",
    "\n",
    "            # Step forward and receive next state and reward\n",
    "            state_1, reward, done, _ = env.step(action)\n",
    "\n",
    "            # Adjust reward based on car position\n",
    "            reward = state_1[0] + 0.5\n",
    "            # Adjust reward for task completion\n",
    "            if state_1[0] >= 0.5:\n",
    "                reward += 1\n",
    "\n",
    "            # Find max Q for t+1 state\n",
    "            if turn1:\n",
    "                Q1 = policy2(Variable(torch.from_numpy(state_1).type(torch.FloatTensor))).detach()\n",
    "                Q2 = policy1(Variable(torch.from_numpy(state_1).type(torch.FloatTensor))).detach()\n",
    "            else:\n",
    "                Q1 = policy1(Variable(torch.from_numpy(state_1).type(torch.FloatTensor))).detach()\n",
    "                Q2 = policy2(Variable(torch.from_numpy(state_1).type(torch.FloatTensor))).detach()\n",
    "            \n",
    "            _, a_prime = torch.max(Q1, -1)\n",
    "            \n",
    "            maxQ1 = Q2[a_prime]\n",
    "\n",
    "            # Create target Q value for training the policy\n",
    "            Q_target = Q.clone()\n",
    "            Q_target = Variable(Q_target)\n",
    "            Q_target[action] = reward + torch.mul(maxQ1.detach(), gamma)\n",
    "\n",
    "            # Calculate loss\n",
    "            loss = loss_fn(Q, Q_target)\n",
    "\n",
    "            # Update policy\n",
    "            policy1.zero_grad()\n",
    "            policy2.zero_grad()\n",
    "            loss.backward()\n",
    "            optimizer.step()\n",
    "\n",
    "            episode_loss += loss.item()\n",
    "            episode_reward += reward\n",
    "\n",
    "            if done:\n",
    "                if state_1[0] >= 0.5:\n",
    "                    # On successful epsisodes, adjust the following parameters\n",
    "                    # Adjust epsilon\n",
    "                    epsilon *= .95\n",
    "\n",
    "                    # Adjust learning rate\n",
    "                    scheduler.step()\n",
    "\n",
    "                    # Record successful episode\n",
    "                    successes += 1\n",
    "\n",
    "                # Record history\n",
    "                loss_history.append(episode_loss)\n",
    "                reward_history.append(episode_reward)\n",
    "                position.append(state_1[0])\n",
    "\n",
    "                break\n",
    "            else:\n",
    "                state = state_1\n",
    "\n",
    "    print('successful episodes: {:d} - {:.4f}%'.format(successes, successes/episodes*100))\n",
    "    return position"
   ]
  },
  {
   "cell_type": "code",
   "execution_count": null,
   "metadata": {},
   "outputs": [
    {
     "data": {
      "application/vnd.jupyter.widget-view+json": {
       "model_id": "cd0ec76bf9b94a2d969c8300d349accf",
       "version_major": 2,
       "version_minor": 0
      },
      "text/plain": [
       "HBox(children=(IntProgress(value=0, max=1), HTML(value='')))"
      ]
     },
     "metadata": {},
     "output_type": "display_data"
    },
    {
     "name": "stderr",
     "output_type": "stream",
     "text": [
      "100%|██████████| 1000/1000 [01:35<00:00, 10.68it/s]\n",
      "  0%|          | 2/1000 [00:00<01:29, 11.12it/s]"
     ]
    },
    {
     "name": "stdout",
     "output_type": "stream",
     "text": [
      "successful episodes: 0 - 0.0000%\n"
     ]
    },
    {
     "name": "stderr",
     "output_type": "stream",
     "text": [
      " 22%|██▏       | 215/1000 [00:20<01:09, 11.25it/s]"
     ]
    }
   ],
   "source": [
    "EPISODES = 1000\n",
    "RUNS = 1\n",
    "\n",
    "q_data_pos = np.zeros((RUNS, EPISODES))\n",
    "dq_data_pos = np.zeros((RUNS, EPISODES))\n",
    "\n",
    "for i in tqdm_notebook(range(RUNS)):\n",
    "    position = DQN(EPISODES)\n",
    "    q_data_pos[i, :] = position\n",
    "\n",
    "    position = DoubleDQN(EPISODES)\n",
    "    dq_data_pos[i, :] = position\n"
   ]
  },
  {
   "cell_type": "code",
   "execution_count": null,
   "metadata": {},
   "outputs": [],
   "source": [
    "# Plot percentage actions left over episodes:\n",
    "plt.plot(q_data_pos.mean(0), label='Q-learning')\n",
    "plt.plot(dq_data_pos.mean(0), label='Double Q-learning')\n",
    "plt.title('End position')\n",
    "plt.legend()\n",
    "plt.show()"
   ]
  },
  {
   "cell_type": "code",
   "execution_count": null,
   "metadata": {},
   "outputs": [],
   "source": []
  }
 ],
 "metadata": {
  "kernelspec": {
   "display_name": "Python 3",
   "language": "python",
   "name": "python3"
  },
  "language_info": {
   "codemirror_mode": {
    "name": "ipython",
    "version": 3
   },
   "file_extension": ".py",
   "mimetype": "text/x-python",
   "name": "python",
   "nbconvert_exporter": "python",
   "pygments_lexer": "ipython3",
   "version": "3.6.7"
  }
 },
 "nbformat": 4,
 "nbformat_minor": 2
}
