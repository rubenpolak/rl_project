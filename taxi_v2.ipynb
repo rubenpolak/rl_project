{
 "cells": [
  {
   "cell_type": "code",
   "execution_count": 1,
   "metadata": {},
   "outputs": [],
   "source": [
    "import gym\n",
    "import gym_gridworld\n",
    "\n",
    "import numpy as np\n",
    "from collections import defaultdict\n",
    "from tqdm import tqdm as _tqdm\n",
    "def tqdm(*args, **kwargs):\n",
    "    return _tqdm(*args, **kwargs, mininterval=1)\n",
    "\n",
    "import matplotlib.pyplot as plt\n",
    "\n",
    "env = gym.make(\"Taxi-v2\")"
   ]
  },
  {
   "cell_type": "code",
   "execution_count": 2,
   "metadata": {},
   "outputs": [
    {
     "name": "stdout",
     "output_type": "stream",
     "text": [
      "Home:\t\t 167\n",
      "To right:\t (67, -1, False, {'prob': 1.0})\n",
      "+---------+\n",
      "|R: | :\u001b[43m \u001b[0m:\u001b[34;1mG\u001b[0m|\n",
      "| : : : : |\n",
      "| : : : : |\n",
      "| | : | : |\n",
      "|Y| : |\u001b[35mB\u001b[0m: |\n",
      "+---------+\n",
      "  (North)\n"
     ]
    }
   ],
   "source": [
    "env.verbose = True\n",
    "current_state = env.reset()\n",
    "state = env.reset()\n",
    "print('Home:\\t\\t', state)\n",
    "# go left = 0\n",
    "# go right = 1\n",
    "state = env.step(1)\n",
    "print('To right:\\t', state)\n",
    "env.render()"
   ]
  },
  {
   "cell_type": "code",
   "execution_count": 3,
   "metadata": {},
   "outputs": [
    {
     "name": "stdout",
     "output_type": "stream",
     "text": [
      "Reset:\t\t 284\n",
      "To right:\t (184, -1, False, {'prob': 1.0})\n",
      "+---------+\n",
      "|\u001b[35mR\u001b[0m: | : :\u001b[34;1mG\u001b[0m|\n",
      "| : : : :\u001b[43m \u001b[0m|\n",
      "| : : : : |\n",
      "| | : | : |\n",
      "|Y| : |B: |\n",
      "+---------+\n",
      "  (North)\n"
     ]
    }
   ],
   "source": [
    "state = env.reset()\n",
    "print('Reset:\\t\\t', state)\n",
    "state = env.step(1)\n",
    "print('To right:\\t', state)\n",
    "env.render()"
   ]
  },
  {
   "cell_type": "code",
   "execution_count": 4,
   "metadata": {},
   "outputs": [],
   "source": [
    "def make_epsilon_greedy_policy(Q, epsilon, nA):\n",
    "    \"\"\"\n",
    "    Creates an epsilon-greedy policy based on a given Q-function and epsilon.\n",
    "    \n",
    "    Args:\n",
    "        Q: A dictionary that maps from state -> action-values.\n",
    "            Each value is a numpy array of length nA (see below)\n",
    "        epsilon: The probability to select a random action . float between 0 and 1.\n",
    "        nA: Number of actions in the environment.\n",
    "    \n",
    "    Returns:\n",
    "        A function that takes the observation as an argument and returns\n",
    "        the probabilities for each action in the form of a numpy array of length nA.\n",
    "    \n",
    "    \"\"\"\n",
    "    def policy_fn(observation):\n",
    "        A = (np.zeros(env.nA) + epsilon) / env.nA\n",
    "        \n",
    "        if np.count_nonzero(Q[observation]) == 0:\n",
    "            best = np.random.choice(range(env.nA))\n",
    "        else:\n",
    "            best = np.argmax(Q[observation])\n",
    "        \n",
    "        A[best] += (1.0 - epsilon)\n",
    "        \n",
    "        return A\n",
    "        \n",
    "    return policy_fn\n",
    "\n",
    "def make_epsilon_greedy_double_q_policy(Q1, Q2, epsilon, nA):\n",
    "    \n",
    "    def policy_fn(observation):\n",
    "        \n",
    "        Q_add = defaultdict(lambda: np.zeros(env.nA))\n",
    "    \n",
    "        for key1, value1 in Q1.items():\n",
    "        \n",
    "            for key2, value2 in Q2.items():\n",
    "            \n",
    "                if key1 == key2:\n",
    "                \n",
    "                    Q_add[key1] = value1 + value2\n",
    "        \n",
    "        A = (np.zeros(env.nA) + epsilon) / env.nA\n",
    "\n",
    "        if np.count_nonzero(Q_add[observation]) == 0:\n",
    "            best = np.random.choice(range(env.nA))\n",
    "        else:\n",
    "            best = np.argmax(Q_add[observation])\n",
    "        \n",
    "        A[best] += (1.0 - epsilon)\n",
    "        return A\n",
    "        \n",
    "    return policy_fn"
   ]
  },
  {
   "cell_type": "code",
   "execution_count": 5,
   "metadata": {},
   "outputs": [],
   "source": [
    "def q_learning(env, num_episodes, discount_factor=1.0, alpha=0.1, epsilon=0.1, Q=None):\n",
    "    \"\"\"\n",
    "    Q-Learning algorithm: Off-policy TD control. Finds the optimal greedy policy\n",
    "    while following an epsilon-greedy policy\n",
    "    \n",
    "    \n",
    "    Args:\n",
    "        env: OpenAI environment.\n",
    "        num_episodes: Number of episodes to run for.\n",
    "        discount_factor: Gamma discount factor.\n",
    "        alpha: TD learning rate.\n",
    "        epsilon: Probability to sample a random action. Float between 0 and 1.\n",
    "        Q: hot-start the algorithm with a Q value function (optional)\n",
    "    \n",
    "    Returns:\n",
    "        A tuple (Q, stats).\n",
    "        Q is the optimal action-value function, a dictionary mapping state -> action values.\n",
    "        stats is a list of tuples giving the episode lengths and rewards.\n",
    "    \"\"\"\n",
    "    \n",
    "    # The final action-value function.\n",
    "    # A nested dictionary that maps state -> (action -> action-value).\n",
    "    if Q is None:\n",
    "        Q = defaultdict(lambda: np.zeros(env.nA))\n",
    "    \n",
    "    # Keeps track of useful statistics\n",
    "    stats = []\n",
    "    action_left = 0\n",
    "    \n",
    "    # The policy we're following\n",
    "    policy = make_epsilon_greedy_policy(Q, epsilon, env.nA)\n",
    "    \n",
    "    for i_episode in range(num_episodes):\n",
    "        #i = 0\n",
    "        R = 0\n",
    "\n",
    "        current_state = env.reset()\n",
    "        action_probs = policy(current_state) \n",
    "        current_action = np.random.choice(np.arange(len(action_probs)), p=action_probs)\n",
    "        \n",
    "        episode_lenghts = 0\n",
    "\n",
    "        while True:\n",
    "            \n",
    "            next_state, reward, done, _ = env.step(current_action)\n",
    "            episode_lenghts += 1\n",
    "            if done:\n",
    "                break\n",
    "            \n",
    "            next_A = policy(next_state)\n",
    "\n",
    "            next_action = np.random.choice(range(env.nA), p=next_A)\n",
    "            \n",
    "            target = reward + (discount_factor * max(Q[next_state]) - Q[current_state][current_action])\n",
    "            Q[current_state][current_action] += alpha * target\n",
    "            \n",
    "            #i += 1\n",
    "            R += reward\n",
    "            \n",
    "            current_state, current_action = next_state, next_action\n",
    "\n",
    "        stats.append(episode_lenghts)\n",
    "    return Q, stats"
   ]
  },
  {
   "cell_type": "code",
   "execution_count": 9,
   "metadata": {},
   "outputs": [],
   "source": [
    "def double_q_learning(env, num_episodes, discount_factor=1.0, alpha=0.1, epsilon=0.1, Q1=None, Q2=None):\n",
    "    \"\"\"\n",
    "    Double Q-Learning algorithm: Off-policy TD control. Finds the optimal greedy policy\n",
    "    while following an epsilon-greedy policy\n",
    "    \n",
    "    \n",
    "    Args:\n",
    "        env: OpenAI environment.\n",
    "        num_episodes: Number of episodes to run for.\n",
    "        discount_factor: Gamma discount factor.\n",
    "        alpha: TD learning rate.\n",
    "        epsilon: Probability to sample a random action. Float between 0 and 1.\n",
    "        Q: hot-start the algorithm with a Q value function (optional)\n",
    "    \n",
    "    Returns:\n",
    "        A tuple (Q, stats).\n",
    "        Q is the optimal action-value function, a dictionary mapping state -> action values.\n",
    "        stats is a list of tuples giving the episode lengths and rewards.\n",
    "    \"\"\"\n",
    "    \n",
    "    # The final action-value function.\n",
    "    # A nested dictionary that maps state -> (action -> action-value).\n",
    "        \n",
    "    if Q1 is None:\n",
    "        Q1 = defaultdict(lambda: np.zeros(env.nA))\n",
    "    if Q2 is None:\n",
    "        Q2 = defaultdict(lambda: np.zeros(env.nA))\n",
    "    \n",
    "    # Keeps track of useful statistics\n",
    "    stats = []\n",
    "    action_left = 0\n",
    "\n",
    "    max_steps = 200\n",
    "    \n",
    "    # The policy we're following    \n",
    "    policy = make_epsilon_greedy_double_q_policy(Q1, Q2, epsilon, env.nA)\n",
    "    \n",
    "    #Keep track of which update function we use, we alternate between 1/2\n",
    "    turn1 = random.choice([True, False])\n",
    "    \n",
    "    for i_episode in range(num_episodes):\n",
    "        R = 0\n",
    "        current_state = env.reset()\n",
    "        action_probs = policy(current_state) \n",
    "        current_action = np.random.choice(np.arange(len(action_probs)), p=action_probs)\n",
    "        \n",
    "        if current_action == 0:\n",
    "            action_left += 1\n",
    "            \n",
    "        done = False\n",
    "        episode_lenghts = 0\n",
    "\n",
    "        steps = 0\n",
    "        \n",
    "        while True and steps < max_steps:\n",
    "            steps += 1\n",
    "            next_state, reward, done, _ = env.step(current_action)\n",
    "            episode_lenghts += 1\n",
    "            \n",
    "            if done:\n",
    "                break\n",
    "            \n",
    "            next_A = policy(next_state)\n",
    "            next_action = np.random.choice(range(env.nA), p=next_A)\n",
    "            \n",
    "            if turn1:\n",
    "                target = reward + discount_factor * (Q2[next_state][np.argmax(Q1[next_state])] - Q1[current_state][current_action])\n",
    "                Q1[current_state][current_action] += alpha * target\n",
    "            else:\n",
    "                target = reward + discount_factor * (Q1[next_state][np.argmax(Q2[next_state])] - Q2[current_state][current_action])\n",
    "                Q2[current_state][current_action] += alpha * target\n",
    "                \n",
    "            R += reward\n",
    "\n",
    "            current_state, current_action = next_state, next_action\n",
    "            \n",
    "            #Switch turns\n",
    "            turn1 = random.choice([True, False])\n",
    "    \n",
    "        stats.append(episode_lenghts)\n",
    "        \n",
    "    return Q1, Q2, stats"
   ]
  },
  {
   "cell_type": "code",
   "execution_count": 12,
   "metadata": {},
   "outputs": [
    {
     "name": "stderr",
     "output_type": "stream",
     "text": [
      "100%|██████████| 100/100 [05:34<00:00,  3.54s/it]\n"
     ]
    }
   ],
   "source": [
    "import random\n",
    "\n",
    "env.verbose = False\n",
    "_ = env.reset()\n",
    "env.nA = 6\n",
    "\n",
    "RUNS = 100\n",
    "EPISODES = 300\n",
    "\n",
    "q_data = np.zeros((RUNS, EPISODES))\n",
    "#dq_data = np.zeros((RUNS, EPISODES))\n",
    "\n",
    "for i in tqdm(range(RUNS)):\n",
    "    _, stats = q_learning(env, EPISODES, alpha=0.6)\n",
    "    q_data[i, :] = stats\n",
    "    \n",
    "    #_,_, stats = double_q_learning(env, EPISODES, alpha=0.6)\n",
    "    #dq_data[i, :] = stats\n"
   ]
  },
  {
   "cell_type": "code",
   "execution_count": 13,
   "metadata": {},
   "outputs": [
    {
     "data": {
      "image/png": "[encoded data removed]",
      "text/plain": [
       "<Figure size 432x288 with 1 Axes>"
      ]
     },
     "metadata": {
      "needs_background": "light"
     },
     "output_type": "display_data"
    }
   ],
   "source": [
    "# Plot percentage actions left over episodes:\n",
    "plt.plot(q_data.mean(0), label='Q-learning')\n",
    "plt.plot(dq_data.mean(0), label='Double Q-learning')\n",
    "plt.title('Taxi v2 - Episode lenghts')\n",
    "plt.xlabel('Number of episodes')\n",
    "plt.ylabel('Number of steps to complete episode')\n",
    "plt.gca().set_ylim([0,300])\n",
    "plt.legend()\n",
    "plt.show()"
   ]
  },
  {
   "cell_type": "code",
   "execution_count": 14,
   "metadata": {},
   "outputs": [
    {
     "ename": "SyntaxError",
     "evalue": "invalid syntax (<ipython-input-14-f39f61064cdd>, line 1)",
     "output_type": "error",
     "traceback": [
      "\u001b[0;36m  File \u001b[0;32m\"<ipython-input-14-f39f61064cdd>\"\u001b[0;36m, line \u001b[0;32m1\u001b[0m\n\u001b[0;31m    For update\u001b[0m\n\u001b[0m             ^\u001b[0m\n\u001b[0;31mSyntaxError\u001b[0m\u001b[0;31m:\u001b[0m invalid syntax\n"
     ]
    }
   ],
   "source": [
    "For update"
   ]
  },
  {
   "cell_type": "code",
   "execution_count": null,
   "metadata": {},
   "outputs": [],
   "source": []
  }
 ],
 "metadata": {
  "kernelspec": {
   "display_name": "Python 3",
   "language": "python",
   "name": "python3"
  },
  "language_info": {
   "codemirror_mode": {
    "name": "ipython",
    "version": 3
   },
   "file_extension": ".py",
   "mimetype": "text/x-python",
   "name": "python",
   "nbconvert_exporter": "python",
   "pygments_lexer": "ipython3",
   "version": "3.7.0"
  }
 },
 "nbformat": 4,
 "nbformat_minor": 2
}
